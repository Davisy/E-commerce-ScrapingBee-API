{
 "cells": [
  {
   "cell_type": "code",
   "execution_count": 3,
   "id": "ac201223",
   "metadata": {
    "ExecuteTime": {
     "end_time": "2023-08-22T18:07:55.860828Z",
     "start_time": "2023-08-22T18:07:55.858385Z"
    }
   },
   "outputs": [],
   "source": [
    "# import packages\n",
    "import pandas as pd\n",
    "from scrapingbee import ScrapingBeeClient"
   ]
  },
  {
   "cell_type": "code",
   "execution_count": 4,
   "id": "ffdf9ba5",
   "metadata": {
    "ExecuteTime": {
     "end_time": "2023-08-22T18:07:56.337642Z",
     "start_time": "2023-08-22T18:07:56.335359Z"
    }
   },
   "outputs": [],
   "source": [
    "# Initialize the client with your API Key\n",
    "client = ScrapingBeeClient(\n",
    "    api_key=\n",
    "    'MRUJEYJJZEUMX2D34KBS78NF08J4BT34H8PIFACA80CGJ1UJ6IEG1LN0A47FEGS1UCSQFOLIQCUSPO4R'\n",
    ")\n"
   ]
  },
  {
   "cell_type": "code",
   "execution_count": 5,
   "id": "59d88422",
   "metadata": {
    "ExecuteTime": {
     "end_time": "2023-08-22T18:08:39.846624Z",
     "start_time": "2023-08-22T18:07:58.408494Z"
    }
   },
   "outputs": [
    {
     "name": "stdout",
     "output_type": "stream",
     "text": [
      "b'{\"name\": [\"The Secret Garden\", \"The Metamorphosis\", \"The Pilgrim\\'s Progress\", \"The Hound of the Baskervilles (Sherlock Holmes #5)\", \"Little Women (Little Women #1)\", \"Gone with the Wind\", \"Candide\", \"Animal Farm\", \"Wuthering Heights\", \"The Picture of Dorian Gray\", \"The Complete Stories and Poems (The Works of Edgar Allan Poe [Cameo Edition])\", \"Beowulf\", \"And Then There Were None\", \"The Story of Hong Gildong\", \"The Little Prince\", \"Sense and Sensibility\", \"Of Mice and Men\", \"Emma\", \"Alice in Wonderland (Alice\\'s Adventures in Wonderland #1)\"], \"link\": [\"../../../the-secret-garden_413/index.html\", \"../../../the-metamorphosis_409/index.html\", \"../../../the-pilgrims-progress_353/index.html\", \"../../../the-hound-of-the-baskervilles-sherlock-holmes-5_348/index.html\", \"../../../little-women-little-women-1_331/index.html\", \"../../../gone-with-the-wind_324/index.html\", \"../../../candide_316/index.html\", \"../../../animal-farm_313/index.html\", \"../../../wuthering-heights_307/index.html\", \"../../../the-picture-of-dorian-gray_270/index.html\", \"../../../the-complete-stories-and-poems-the-works-of-edgar-allan-poe-cameo-edition_238/index.html\", \"../../../beowulf_126/index.html\", \"../../../and-then-there-were-none_119/index.html\", \"../../../the-story-of-hong-gildong_84/index.html\", \"../../../the-little-prince_72/index.html\", \"../../../sense-and-sensibility_49/index.html\", \"../../../of-mice-and-men_37/index.html\", \"../../../emma_17/index.html\", \"../../../alice-in-wonderland-alices-adventures-in-wonderland-1_5/index.html\"], \"price\": [\"\\xc2\\xa315.08\", \"\\xc2\\xa328.58\", \"\\xc2\\xa350.26\", \"\\xc2\\xa314.82\", \"\\xc2\\xa328.07\", \"\\xc2\\xa332.49\", \"\\xc2\\xa358.63\", \"\\xc2\\xa357.22\", \"\\xc2\\xa317.73\", \"\\xc2\\xa329.70\", \"\\xc2\\xa326.78\", \"\\xc2\\xa338.35\", \"\\xc2\\xa335.01\", \"\\xc2\\xa343.19\", \"\\xc2\\xa345.42\", \"\\xc2\\xa337.46\", \"\\xc2\\xa347.11\", \"\\xc2\\xa332.93\", \"\\xc2\\xa355.53\"], \"availability\": [\"In stock\", \"In stock\", \"In stock\", \"In stock\", \"In stock\", \"In stock\", \"In stock\", \"In stock\", \"In stock\", \"In stock\", \"In stock\", \"In stock\", \"In stock\", \"In stock\", \"In stock\", \"In stock\", \"In stock\", \"In stock\", \"In stock\"], \"image\": [\"../../../../media/cache/c5/46/c5465a06182ed6ebfa40d049258a2f58.jpg\", \"../../../../media/cache/4a/1b/4a1b6e9c1af75db0dc34ae63344f6883.jpg\", \"../../../../media/cache/45/bb/45bb59d19eb3aa868293d44809078418.jpg\", \"../../../../media/cache/1f/b0/1fb03cdabe6001c8a2620f65e025cbd5.jpg\", \"../../../../media/cache/81/f5/81f559ebe403317226fa8b611e35ce8a.jpg\", \"../../../../media/cache/27/82/2782701b5c877cb063065b9fc14c5b13.jpg\", \"../../../../media/cache/e3/c4/e3c4aba2409bb769a6488805e3fc4709.jpg\", \"../../../../media/cache/10/db/10db56354b4550d92270c6f097d9bebc.jpg\", \"../../../../media/cache/93/4e/934e966c1ddf559d3ac2b5c1407aaf1e.jpg\", \"../../../../media/cache/a6/72/a67245346daa38c2b23a4fc64c6e7115.jpg\", \"../../../../media/cache/42/c4/42c48f11b7e70a0f76c5ba9cb5c5018a.jpg\", \"../../../../media/cache/dd/6e/dd6e7b84e99f3b4b5655ea0db74af2b4.jpg\", \"../../../../media/cache/21/bf/21bf2eb0bff3134837def8bd40845ba0.jpg\", \"../../../../media/cache/ab/16/ab16eb035cc58809a73c4699477de9cb.jpg\", \"../../../../media/cache/c0/78/c078355608dd81c7c5e4f5e1c5f73d23.jpg\", \"../../../../media/cache/7d/53/7d53e2264b9647ee307259be9f73585d.jpg\", \"../../../../media/cache/0f/ca/0fca4597765ffacdb7bd529fc5eb88fa.jpg\", \"../../../../media/cache/09/63/09638baaef52f03827c215029c632a13.jpg\", \"../../../../media/cache/96/ee/96ee77d71a31b7694dac6855f6affe4e.jpg\"]}'\n"
     ]
    }
   ],
   "source": [
    "# send request with specific parameters to scrape data \n",
    "response = client.get(\n",
    "    \"https://books.toscrape.com/catalogue/category/books/classics_6/index.html\",\n",
    "    params={\n",
    "        'extract_rules': {\n",
    "            \"name\": {\n",
    "                \"selector\": \"div.image_container > a > img\",\n",
    "                \"output\": \"@alt\",\n",
    "                \"type\": \"list\"\n",
    "            },\n",
    "            \"link\": {\n",
    "                \"selector\": \"div.image_container > a\",\n",
    "                \"output\": \"@href\",\n",
    "                \"type\": \"list\"\n",
    "            },\n",
    "            \"price\": {\n",
    "                \"selector\": \"p.price_color\",\n",
    "                \"type\": \"list\"\n",
    "            },\n",
    "            \"availability\": {\n",
    "                \"selector\": \"p.instock.availability\",\n",
    "                \"clean\": True,\n",
    "                \"type\": \"list\"\n",
    "            },\n",
    "            \"image\": {\n",
    "                \"selector\": \"img.thumbnail\",\n",
    "                \"output\": \"@src\",\n",
    "                \"type\": \"list\"\n",
    "            }\n",
    "        }\n",
    "    })\n",
    "if response.ok:\n",
    "    print(response.content)"
   ]
  },
  {
   "cell_type": "code",
   "execution_count": 6,
   "id": "7025a7f2",
   "metadata": {
    "ExecuteTime": {
     "end_time": "2023-08-22T18:10:25.713125Z",
     "start_time": "2023-08-22T18:10:25.697920Z"
    }
   },
   "outputs": [
    {
     "data": {
      "text/plain": [
       "{'name': ['The Secret Garden',\n",
       "  'The Metamorphosis',\n",
       "  \"The Pilgrim's Progress\",\n",
       "  'The Hound of the Baskervilles (Sherlock Holmes #5)',\n",
       "  'Little Women (Little Women #1)',\n",
       "  'Gone with the Wind',\n",
       "  'Candide',\n",
       "  'Animal Farm',\n",
       "  'Wuthering Heights',\n",
       "  'The Picture of Dorian Gray',\n",
       "  'The Complete Stories and Poems (The Works of Edgar Allan Poe [Cameo Edition])',\n",
       "  'Beowulf',\n",
       "  'And Then There Were None',\n",
       "  'The Story of Hong Gildong',\n",
       "  'The Little Prince',\n",
       "  'Sense and Sensibility',\n",
       "  'Of Mice and Men',\n",
       "  'Emma',\n",
       "  \"Alice in Wonderland (Alice's Adventures in Wonderland #1)\"],\n",
       " 'link': ['../../../the-secret-garden_413/index.html',\n",
       "  '../../../the-metamorphosis_409/index.html',\n",
       "  '../../../the-pilgrims-progress_353/index.html',\n",
       "  '../../../the-hound-of-the-baskervilles-sherlock-holmes-5_348/index.html',\n",
       "  '../../../little-women-little-women-1_331/index.html',\n",
       "  '../../../gone-with-the-wind_324/index.html',\n",
       "  '../../../candide_316/index.html',\n",
       "  '../../../animal-farm_313/index.html',\n",
       "  '../../../wuthering-heights_307/index.html',\n",
       "  '../../../the-picture-of-dorian-gray_270/index.html',\n",
       "  '../../../the-complete-stories-and-poems-the-works-of-edgar-allan-poe-cameo-edition_238/index.html',\n",
       "  '../../../beowulf_126/index.html',\n",
       "  '../../../and-then-there-were-none_119/index.html',\n",
       "  '../../../the-story-of-hong-gildong_84/index.html',\n",
       "  '../../../the-little-prince_72/index.html',\n",
       "  '../../../sense-and-sensibility_49/index.html',\n",
       "  '../../../of-mice-and-men_37/index.html',\n",
       "  '../../../emma_17/index.html',\n",
       "  '../../../alice-in-wonderland-alices-adventures-in-wonderland-1_5/index.html'],\n",
       " 'price': ['£15.08',\n",
       "  '£28.58',\n",
       "  '£50.26',\n",
       "  '£14.82',\n",
       "  '£28.07',\n",
       "  '£32.49',\n",
       "  '£58.63',\n",
       "  '£57.22',\n",
       "  '£17.73',\n",
       "  '£29.70',\n",
       "  '£26.78',\n",
       "  '£38.35',\n",
       "  '£35.01',\n",
       "  '£43.19',\n",
       "  '£45.42',\n",
       "  '£37.46',\n",
       "  '£47.11',\n",
       "  '£32.93',\n",
       "  '£55.53'],\n",
       " 'availability': ['In stock',\n",
       "  'In stock',\n",
       "  'In stock',\n",
       "  'In stock',\n",
       "  'In stock',\n",
       "  'In stock',\n",
       "  'In stock',\n",
       "  'In stock',\n",
       "  'In stock',\n",
       "  'In stock',\n",
       "  'In stock',\n",
       "  'In stock',\n",
       "  'In stock',\n",
       "  'In stock',\n",
       "  'In stock',\n",
       "  'In stock',\n",
       "  'In stock',\n",
       "  'In stock',\n",
       "  'In stock'],\n",
       " 'image': ['../../../../media/cache/c5/46/c5465a06182ed6ebfa40d049258a2f58.jpg',\n",
       "  '../../../../media/cache/4a/1b/4a1b6e9c1af75db0dc34ae63344f6883.jpg',\n",
       "  '../../../../media/cache/45/bb/45bb59d19eb3aa868293d44809078418.jpg',\n",
       "  '../../../../media/cache/1f/b0/1fb03cdabe6001c8a2620f65e025cbd5.jpg',\n",
       "  '../../../../media/cache/81/f5/81f559ebe403317226fa8b611e35ce8a.jpg',\n",
       "  '../../../../media/cache/27/82/2782701b5c877cb063065b9fc14c5b13.jpg',\n",
       "  '../../../../media/cache/e3/c4/e3c4aba2409bb769a6488805e3fc4709.jpg',\n",
       "  '../../../../media/cache/10/db/10db56354b4550d92270c6f097d9bebc.jpg',\n",
       "  '../../../../media/cache/93/4e/934e966c1ddf559d3ac2b5c1407aaf1e.jpg',\n",
       "  '../../../../media/cache/a6/72/a67245346daa38c2b23a4fc64c6e7115.jpg',\n",
       "  '../../../../media/cache/42/c4/42c48f11b7e70a0f76c5ba9cb5c5018a.jpg',\n",
       "  '../../../../media/cache/dd/6e/dd6e7b84e99f3b4b5655ea0db74af2b4.jpg',\n",
       "  '../../../../media/cache/21/bf/21bf2eb0bff3134837def8bd40845ba0.jpg',\n",
       "  '../../../../media/cache/ab/16/ab16eb035cc58809a73c4699477de9cb.jpg',\n",
       "  '../../../../media/cache/c0/78/c078355608dd81c7c5e4f5e1c5f73d23.jpg',\n",
       "  '../../../../media/cache/7d/53/7d53e2264b9647ee307259be9f73585d.jpg',\n",
       "  '../../../../media/cache/0f/ca/0fca4597765ffacdb7bd529fc5eb88fa.jpg',\n",
       "  '../../../../media/cache/09/63/09638baaef52f03827c215029c632a13.jpg',\n",
       "  '../../../../media/cache/96/ee/96ee77d71a31b7694dac6855f6affe4e.jpg']}"
      ]
     },
     "execution_count": 6,
     "metadata": {},
     "output_type": "execute_result"
    }
   ],
   "source": [
    "# show the response in json format\n",
    "output = response.json() \n",
    "\n",
    "output "
   ]
  },
  {
   "cell_type": "code",
   "execution_count": 7,
   "id": "048272af",
   "metadata": {
    "ExecuteTime": {
     "end_time": "2023-08-22T18:10:39.230224Z",
     "start_time": "2023-08-22T18:10:39.219189Z"
    }
   },
   "outputs": [],
   "source": [
    "# Create a DataFrame from the JSON data\n",
    "data = pd.DataFrame(output)"
   ]
  },
  {
   "cell_type": "code",
   "execution_count": 8,
   "id": "76cab230",
   "metadata": {
    "ExecuteTime": {
     "end_time": "2023-08-22T18:10:39.987502Z",
     "start_time": "2023-08-22T18:10:39.962302Z"
    }
   },
   "outputs": [
    {
     "data": {
      "text/html": [
       "<div>\n",
       "<style scoped>\n",
       "    .dataframe tbody tr th:only-of-type {\n",
       "        vertical-align: middle;\n",
       "    }\n",
       "\n",
       "    .dataframe tbody tr th {\n",
       "        vertical-align: top;\n",
       "    }\n",
       "\n",
       "    .dataframe thead th {\n",
       "        text-align: right;\n",
       "    }\n",
       "</style>\n",
       "<table border=\"1\" class=\"dataframe\">\n",
       "  <thead>\n",
       "    <tr style=\"text-align: right;\">\n",
       "      <th></th>\n",
       "      <th>name</th>\n",
       "      <th>link</th>\n",
       "      <th>price</th>\n",
       "      <th>availability</th>\n",
       "      <th>image</th>\n",
       "    </tr>\n",
       "  </thead>\n",
       "  <tbody>\n",
       "    <tr>\n",
       "      <th>0</th>\n",
       "      <td>The Secret Garden</td>\n",
       "      <td>../../../the-secret-garden_413/index.html</td>\n",
       "      <td>£15.08</td>\n",
       "      <td>In stock</td>\n",
       "      <td>../../../../media/cache/c5/46/c5465a06182ed6eb...</td>\n",
       "    </tr>\n",
       "    <tr>\n",
       "      <th>1</th>\n",
       "      <td>The Metamorphosis</td>\n",
       "      <td>../../../the-metamorphosis_409/index.html</td>\n",
       "      <td>£28.58</td>\n",
       "      <td>In stock</td>\n",
       "      <td>../../../../media/cache/4a/1b/4a1b6e9c1af75db0...</td>\n",
       "    </tr>\n",
       "    <tr>\n",
       "      <th>2</th>\n",
       "      <td>The Pilgrim's Progress</td>\n",
       "      <td>../../../the-pilgrims-progress_353/index.html</td>\n",
       "      <td>£50.26</td>\n",
       "      <td>In stock</td>\n",
       "      <td>../../../../media/cache/45/bb/45bb59d19eb3aa86...</td>\n",
       "    </tr>\n",
       "    <tr>\n",
       "      <th>3</th>\n",
       "      <td>The Hound of the Baskervilles (Sherlock Holmes...</td>\n",
       "      <td>../../../the-hound-of-the-baskervilles-sherloc...</td>\n",
       "      <td>£14.82</td>\n",
       "      <td>In stock</td>\n",
       "      <td>../../../../media/cache/1f/b0/1fb03cdabe6001c8...</td>\n",
       "    </tr>\n",
       "    <tr>\n",
       "      <th>4</th>\n",
       "      <td>Little Women (Little Women #1)</td>\n",
       "      <td>../../../little-women-little-women-1_331/index...</td>\n",
       "      <td>£28.07</td>\n",
       "      <td>In stock</td>\n",
       "      <td>../../../../media/cache/81/f5/81f559ebe4033172...</td>\n",
       "    </tr>\n",
       "  </tbody>\n",
       "</table>\n",
       "</div>"
      ],
      "text/plain": [
       "                                                name  \\\n",
       "0                                  The Secret Garden   \n",
       "1                                  The Metamorphosis   \n",
       "2                             The Pilgrim's Progress   \n",
       "3  The Hound of the Baskervilles (Sherlock Holmes...   \n",
       "4                     Little Women (Little Women #1)   \n",
       "\n",
       "                                                link   price availability  \\\n",
       "0          ../../../the-secret-garden_413/index.html  £15.08     In stock   \n",
       "1          ../../../the-metamorphosis_409/index.html  £28.58     In stock   \n",
       "2      ../../../the-pilgrims-progress_353/index.html  £50.26     In stock   \n",
       "3  ../../../the-hound-of-the-baskervilles-sherloc...  £14.82     In stock   \n",
       "4  ../../../little-women-little-women-1_331/index...  £28.07     In stock   \n",
       "\n",
       "                                               image  \n",
       "0  ../../../../media/cache/c5/46/c5465a06182ed6eb...  \n",
       "1  ../../../../media/cache/4a/1b/4a1b6e9c1af75db0...  \n",
       "2  ../../../../media/cache/45/bb/45bb59d19eb3aa86...  \n",
       "3  ../../../../media/cache/1f/b0/1fb03cdabe6001c8...  \n",
       "4  ../../../../media/cache/81/f5/81f559ebe4033172...  "
      ]
     },
     "execution_count": 8,
     "metadata": {},
     "output_type": "execute_result"
    }
   ],
   "source": [
    "# show top five rows \n",
    "data.head() "
   ]
  },
  {
   "cell_type": "code",
   "execution_count": 9,
   "id": "858090d3",
   "metadata": {
    "ExecuteTime": {
     "end_time": "2023-08-22T18:10:42.099034Z",
     "start_time": "2023-08-22T18:10:42.093692Z"
    }
   },
   "outputs": [],
   "source": [
    "# function to reformat the book link\n",
    "def reformat_book_link(link):\n",
    "    return f\"https://books.toscrape.com/catalogue{link[8:]}\"\n",
    "    "
   ]
  },
  {
   "cell_type": "code",
   "execution_count": 10,
   "id": "3ff71172",
   "metadata": {
    "ExecuteTime": {
     "end_time": "2023-08-22T18:10:42.546319Z",
     "start_time": "2023-08-22T18:10:42.535898Z"
    }
   },
   "outputs": [],
   "source": [
    "# reformat the book link\n",
    "data[\"link\"] = data[\"link\"].apply(reformat_book_link)"
   ]
  },
  {
   "cell_type": "code",
   "execution_count": 11,
   "id": "e209e074",
   "metadata": {
    "ExecuteTime": {
     "end_time": "2023-08-22T18:10:44.938134Z",
     "start_time": "2023-08-22T18:10:44.935040Z"
    }
   },
   "outputs": [],
   "source": [
    "# function to reformat the image link\n",
    "def reformat_image_link(link):\n",
    "    return f\"https://books.toscrape.com{link[11:]}\""
   ]
  },
  {
   "cell_type": "code",
   "execution_count": 12,
   "id": "5a990677",
   "metadata": {
    "ExecuteTime": {
     "end_time": "2023-08-22T18:10:46.692238Z",
     "start_time": "2023-08-22T18:10:46.686974Z"
    }
   },
   "outputs": [],
   "source": [
    "# format the image link\n",
    "data[\"image\"] = data[\"image\"].apply(reformat_image_link)"
   ]
  },
  {
   "cell_type": "code",
   "execution_count": 13,
   "id": "5abf43ea",
   "metadata": {
    "ExecuteTime": {
     "end_time": "2023-08-22T18:10:48.946704Z",
     "start_time": "2023-08-22T18:10:48.935402Z"
    }
   },
   "outputs": [
    {
     "data": {
      "text/html": [
       "<div>\n",
       "<style scoped>\n",
       "    .dataframe tbody tr th:only-of-type {\n",
       "        vertical-align: middle;\n",
       "    }\n",
       "\n",
       "    .dataframe tbody tr th {\n",
       "        vertical-align: top;\n",
       "    }\n",
       "\n",
       "    .dataframe thead th {\n",
       "        text-align: right;\n",
       "    }\n",
       "</style>\n",
       "<table border=\"1\" class=\"dataframe\">\n",
       "  <thead>\n",
       "    <tr style=\"text-align: right;\">\n",
       "      <th></th>\n",
       "      <th>name</th>\n",
       "      <th>link</th>\n",
       "      <th>price</th>\n",
       "      <th>availability</th>\n",
       "      <th>image</th>\n",
       "    </tr>\n",
       "  </thead>\n",
       "  <tbody>\n",
       "    <tr>\n",
       "      <th>0</th>\n",
       "      <td>The Secret Garden</td>\n",
       "      <td>https://books.toscrape.com/catalogue/the-secre...</td>\n",
       "      <td>£15.08</td>\n",
       "      <td>In stock</td>\n",
       "      <td>https://books.toscrape.com/media/cache/c5/46/c...</td>\n",
       "    </tr>\n",
       "    <tr>\n",
       "      <th>1</th>\n",
       "      <td>The Metamorphosis</td>\n",
       "      <td>https://books.toscrape.com/catalogue/the-metam...</td>\n",
       "      <td>£28.58</td>\n",
       "      <td>In stock</td>\n",
       "      <td>https://books.toscrape.com/media/cache/4a/1b/4...</td>\n",
       "    </tr>\n",
       "    <tr>\n",
       "      <th>2</th>\n",
       "      <td>The Pilgrim's Progress</td>\n",
       "      <td>https://books.toscrape.com/catalogue/the-pilgr...</td>\n",
       "      <td>£50.26</td>\n",
       "      <td>In stock</td>\n",
       "      <td>https://books.toscrape.com/media/cache/45/bb/4...</td>\n",
       "    </tr>\n",
       "    <tr>\n",
       "      <th>3</th>\n",
       "      <td>The Hound of the Baskervilles (Sherlock Holmes...</td>\n",
       "      <td>https://books.toscrape.com/catalogue/the-hound...</td>\n",
       "      <td>£14.82</td>\n",
       "      <td>In stock</td>\n",
       "      <td>https://books.toscrape.com/media/cache/1f/b0/1...</td>\n",
       "    </tr>\n",
       "    <tr>\n",
       "      <th>4</th>\n",
       "      <td>Little Women (Little Women #1)</td>\n",
       "      <td>https://books.toscrape.com/catalogue/little-wo...</td>\n",
       "      <td>£28.07</td>\n",
       "      <td>In stock</td>\n",
       "      <td>https://books.toscrape.com/media/cache/81/f5/8...</td>\n",
       "    </tr>\n",
       "  </tbody>\n",
       "</table>\n",
       "</div>"
      ],
      "text/plain": [
       "                                                name  \\\n",
       "0                                  The Secret Garden   \n",
       "1                                  The Metamorphosis   \n",
       "2                             The Pilgrim's Progress   \n",
       "3  The Hound of the Baskervilles (Sherlock Holmes...   \n",
       "4                     Little Women (Little Women #1)   \n",
       "\n",
       "                                                link   price availability  \\\n",
       "0  https://books.toscrape.com/catalogue/the-secre...  £15.08     In stock   \n",
       "1  https://books.toscrape.com/catalogue/the-metam...  £28.58     In stock   \n",
       "2  https://books.toscrape.com/catalogue/the-pilgr...  £50.26     In stock   \n",
       "3  https://books.toscrape.com/catalogue/the-hound...  £14.82     In stock   \n",
       "4  https://books.toscrape.com/catalogue/little-wo...  £28.07     In stock   \n",
       "\n",
       "                                               image  \n",
       "0  https://books.toscrape.com/media/cache/c5/46/c...  \n",
       "1  https://books.toscrape.com/media/cache/4a/1b/4...  \n",
       "2  https://books.toscrape.com/media/cache/45/bb/4...  \n",
       "3  https://books.toscrape.com/media/cache/1f/b0/1...  \n",
       "4  https://books.toscrape.com/media/cache/81/f5/8...  "
      ]
     },
     "execution_count": 13,
     "metadata": {},
     "output_type": "execute_result"
    }
   ],
   "source": [
    "data.head() "
   ]
  },
  {
   "cell_type": "code",
   "execution_count": 14,
   "id": "0d63ad73",
   "metadata": {
    "ExecuteTime": {
     "end_time": "2023-08-22T18:11:09.906969Z",
     "start_time": "2023-08-22T18:11:09.894383Z"
    }
   },
   "outputs": [],
   "source": [
    "# save to csv\n",
    "data.to_csv(\"data/classics-books.csv\",index=False)"
   ]
  },
  {
   "cell_type": "code",
   "execution_count": null,
   "id": "977e16b8",
   "metadata": {},
   "outputs": [],
   "source": []
  },
  {
   "cell_type": "code",
   "execution_count": null,
   "id": "0e53004f",
   "metadata": {},
   "outputs": [],
   "source": []
  }
 ],
 "metadata": {
  "hide_input": false,
  "kernelspec": {
   "display_name": "Python 3",
   "language": "python",
   "name": "python3"
  },
  "language_info": {
   "codemirror_mode": {
    "name": "ipython",
    "version": 3
   },
   "file_extension": ".py",
   "mimetype": "text/x-python",
   "name": "python",
   "nbconvert_exporter": "python",
   "pygments_lexer": "ipython3",
   "version": "3.8.8"
  },
  "toc": {
   "base_numbering": 1,
   "nav_menu": {},
   "number_sections": true,
   "sideBar": true,
   "skip_h1_title": false,
   "title_cell": "Table of Contents",
   "title_sidebar": "Contents",
   "toc_cell": false,
   "toc_position": {},
   "toc_section_display": true,
   "toc_window_display": false
  }
 },
 "nbformat": 4,
 "nbformat_minor": 5
}
